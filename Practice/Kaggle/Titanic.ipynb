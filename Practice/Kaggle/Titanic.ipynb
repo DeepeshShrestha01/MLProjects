{
 "cells": [
  {
   "cell_type": "markdown",
   "id": "d4390597",
   "metadata": {},
   "source": [
    "# Titanic Survival Prediction model"
   ]
  },
  {
   "cell_type": "markdown",
   "id": "d0c6a527",
   "metadata": {},
   "source": [
    "#Importing the libraries"
   ]
  },
  {
   "cell_type": "code",
   "execution_count": 1,
   "id": "fafb893c",
   "metadata": {},
   "outputs": [],
   "source": [
    "import pandas as pd\n",
    "import matplotlib.pyplot as plt\n",
    "import numpy as np"
   ]
  },
  {
   "cell_type": "markdown",
   "id": "8ed20cd8",
   "metadata": {},
   "source": [
    "Reading the CSV Files"
   ]
  },
  {
   "cell_type": "code",
   "execution_count": 27,
   "id": "ce81091f",
   "metadata": {},
   "outputs": [],
   "source": [
    "test = pd.read_csv('test.csv')\n",
    "train = pd.read_csv('train.csv')"
   ]
  },
  {
   "cell_type": "markdown",
   "id": "1e77b4bd",
   "metadata": {},
   "source": [
    "Splitting into X and y"
   ]
  },
  {
   "cell_type": "code",
   "execution_count": 43,
   "id": "6dc1a8fe",
   "metadata": {},
   "outputs": [],
   "source": [
    "\n",
    "X_train = train.iloc[:,2:].values\n",
    "#The prediction result i.e. survival status is in index 1\n",
    "y_train = train.iloc[:,1].values\n",
    "X_test  = test.iloc[:,2:].values\n",
    "y_test = test.iloc[:,1].values"
   ]
  },
  {
   "cell_type": "markdown",
   "id": "043d052c",
   "metadata": {},
   "source": [
    "Imputing the empty cells on age column with mean\n",
    "\n"
   ]
  },
  {
   "cell_type": "code",
   "execution_count": 44,
   "id": "72664f2b",
   "metadata": {},
   "outputs": [],
   "source": [
    "from sklearn.impute import SimpleImputer\n",
    "imputer = SimpleImputer(missing_values=np.nan, strategy='mean')\n",
    "imputer.fit(X_train[:,5:6])\n",
    "X_train[:,5:6] = imputer.transform(X_train[:,5:6])"
   ]
  },
  {
   "cell_type": "code",
   "execution_count": 45,
   "id": "792517c0",
   "metadata": {},
   "outputs": [
    {
     "data": {
      "text/plain": [
       "array([[3, 'Moran, Mr. James', 'male', nan, 0, 0.0, '330877', 8.4583,\n",
       "        nan, 'Q'],\n",
       "       [1, 'McCarthy, Mr. Timothy J', 'male', 54.0, 0, 0.0, '17463',\n",
       "        51.8625, 'E46', 'S'],\n",
       "       [3, 'Palsson, Master. Gosta Leonard', 'male', 2.0, 3, 1.0,\n",
       "        '349909', 21.075, nan, 'S'],\n",
       "       [3, 'Johnson, Mrs. Oscar W (Elisabeth Vilhelmina Berg)', 'female',\n",
       "        27.0, 0, 2.0, '347742', 11.1333, nan, 'S'],\n",
       "       [2, 'Nasser, Mrs. Nicholas (Adele Achem)', 'female', 14.0, 1, 0.0,\n",
       "        '237736', 30.0708, nan, 'C']], dtype=object)"
      ]
     },
     "execution_count": 45,
     "metadata": {},
     "output_type": "execute_result"
    }
   ],
   "source": [
    "X_train[5:10]"
   ]
  },
  {
   "cell_type": "code",
   "execution_count": null,
   "id": "a58e0f8d",
   "metadata": {},
   "outputs": [],
   "source": []
  },
  {
   "cell_type": "code",
   "execution_count": null,
   "id": "46b259c2",
   "metadata": {},
   "outputs": [],
   "source": []
  }
 ],
 "metadata": {
  "kernelspec": {
   "display_name": "Python 3 (ipykernel)",
   "language": "python",
   "name": "python3"
  },
  "language_info": {
   "codemirror_mode": {
    "name": "ipython",
    "version": 3
   },
   "file_extension": ".py",
   "mimetype": "text/x-python",
   "name": "python",
   "nbconvert_exporter": "python",
   "pygments_lexer": "ipython3",
   "version": "3.11.5"
  }
 },
 "nbformat": 4,
 "nbformat_minor": 5
}
