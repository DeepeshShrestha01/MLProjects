{
 "cells": [
  {
   "cell_type": "code",
   "execution_count": 2,
   "id": "e642d447-4e05-4433-86c8-685f593e9b25",
   "metadata": {},
   "outputs": [],
   "source": [
    "import pandas as pd\n",
    "import xml.etree.ElementTree as xet"
   ]
  },
  {
   "cell_type": "code",
   "execution_count": 1,
   "id": "62f3d84b-1cdf-41ab-b62b-8680139998c3",
   "metadata": {},
   "outputs": [],
   "source": [
    "#glob is used to extract the paths of the defined file \n",
    "from glob import glob"
   ]
  },
  {
   "cell_type": "markdown",
   "id": "56d836fc-da22-4815-a0be-4c7c5f0d19c8",
   "metadata": {},
   "source": [
    "<h4>Storing the path of the xml to the path variable which is the array of actual filename since we are just outside</h4>"
   ]
  },
  {
   "cell_type": "code",
   "execution_count": 2,
   "id": "c650371d-3f03-4097-b5b4-fe108f3ecbb2",
   "metadata": {},
   "outputs": [],
   "source": [
    "#from the xml folder extract all the paths of the file with .xml extension\n",
    "path = glob('./xml/*.xml')"
   ]
  },
  {
   "cell_type": "code",
   "execution_count": 14,
   "id": "72d97a6a-d65c-46f4-9979-58ed97d30cdf",
   "metadata": {},
   "outputs": [],
   "source": [
    "labels_dict = dict(filepath=[],xmin=[], xmax=[], ymin=[], ymax=[])\n",
    "for filename in path:\n",
    "    # filename = path[0]\n",
    "    info = xet.parse(filename)\n",
    "    root = info.getroot()\n",
    "    member_object = root.find('object')\n",
    "    labels_info = member_object.find('bndbox')\n",
    "    xmin = int(labels_info.find('xmin').text)\n",
    "    xmax = int(labels_info.find('xmax').text)\n",
    "    ymin = int(labels_info.find('ymin').text)\n",
    "    ymax = int(labels_info.find('ymax').text)\n",
    "    # print(xmin,xmax,ymin,ymax)\n",
    "    labels_dict['filepath'].append(filename)\n",
    "    labels_dict['xmin'].append(xmin)\n",
    "    labels_dict['ymin'].append(ymin)\n",
    "    labels_dict['xmax'].append(xmax)\n",
    "    labels_dict['ymax'].append(ymax)"
   ]
  },
  {
   "cell_type": "code",
   "execution_count": 16,
   "id": "9e625524-3196-458d-b5ae-e3ff65f56838",
   "metadata": {},
   "outputs": [
    {
     "data": {
      "text/html": [
       "<div>\n",
       "<style scoped>\n",
       "    .dataframe tbody tr th:only-of-type {\n",
       "        vertical-align: middle;\n",
       "    }\n",
       "\n",
       "    .dataframe tbody tr th {\n",
       "        vertical-align: top;\n",
       "    }\n",
       "\n",
       "    .dataframe thead th {\n",
       "        text-align: right;\n",
       "    }\n",
       "</style>\n",
       "<table border=\"1\" class=\"dataframe\">\n",
       "  <thead>\n",
       "    <tr style=\"text-align: right;\">\n",
       "      <th></th>\n",
       "      <th>filepath</th>\n",
       "      <th>xmin</th>\n",
       "      <th>xmax</th>\n",
       "      <th>ymin</th>\n",
       "      <th>ymax</th>\n",
       "    </tr>\n",
       "  </thead>\n",
       "  <tbody>\n",
       "    <tr>\n",
       "      <th>0</th>\n",
       "      <td>./xml\\Cars0.xml</td>\n",
       "      <td>228</td>\n",
       "      <td>425</td>\n",
       "      <td>130</td>\n",
       "      <td>171</td>\n",
       "    </tr>\n",
       "    <tr>\n",
       "      <th>1</th>\n",
       "      <td>./xml\\Cars1.xml</td>\n",
       "      <td>126</td>\n",
       "      <td>266</td>\n",
       "      <td>125</td>\n",
       "      <td>154</td>\n",
       "    </tr>\n",
       "    <tr>\n",
       "      <th>2</th>\n",
       "      <td>./xml\\Cars10.xml</td>\n",
       "      <td>106</td>\n",
       "      <td>304</td>\n",
       "      <td>16</td>\n",
       "      <td>145</td>\n",
       "    </tr>\n",
       "    <tr>\n",
       "      <th>3</th>\n",
       "      <td>./xml\\Cars102.xml</td>\n",
       "      <td>31</td>\n",
       "      <td>324</td>\n",
       "      <td>138</td>\n",
       "      <td>202</td>\n",
       "    </tr>\n",
       "    <tr>\n",
       "      <th>4</th>\n",
       "      <td>./xml\\Cars104.xml</td>\n",
       "      <td>195</td>\n",
       "      <td>243</td>\n",
       "      <td>267</td>\n",
       "      <td>282</td>\n",
       "    </tr>\n",
       "    <tr>\n",
       "      <th>...</th>\n",
       "      <td>...</td>\n",
       "      <td>...</td>\n",
       "      <td>...</td>\n",
       "      <td>...</td>\n",
       "      <td>...</td>\n",
       "    </tr>\n",
       "    <tr>\n",
       "      <th>107</th>\n",
       "      <td>./xml\\Cars94.xml</td>\n",
       "      <td>172</td>\n",
       "      <td>261</td>\n",
       "      <td>206</td>\n",
       "      <td>252</td>\n",
       "    </tr>\n",
       "    <tr>\n",
       "      <th>108</th>\n",
       "      <td>./xml\\Cars96.xml</td>\n",
       "      <td>130</td>\n",
       "      <td>264</td>\n",
       "      <td>123</td>\n",
       "      <td>155</td>\n",
       "    </tr>\n",
       "    <tr>\n",
       "      <th>109</th>\n",
       "      <td>./xml\\Cars97.xml</td>\n",
       "      <td>92</td>\n",
       "      <td>303</td>\n",
       "      <td>100</td>\n",
       "      <td>199</td>\n",
       "    </tr>\n",
       "    <tr>\n",
       "      <th>110</th>\n",
       "      <td>./xml\\Cars98.xml</td>\n",
       "      <td>78</td>\n",
       "      <td>252</td>\n",
       "      <td>189</td>\n",
       "      <td>281</td>\n",
       "    </tr>\n",
       "    <tr>\n",
       "      <th>111</th>\n",
       "      <td>./xml\\Cars99.xml</td>\n",
       "      <td>67</td>\n",
       "      <td>265</td>\n",
       "      <td>206</td>\n",
       "      <td>273</td>\n",
       "    </tr>\n",
       "  </tbody>\n",
       "</table>\n",
       "<p>112 rows × 5 columns</p>\n",
       "</div>"
      ],
      "text/plain": [
       "              filepath  xmin  xmax  ymin  ymax\n",
       "0      ./xml\\Cars0.xml   228   425   130   171\n",
       "1      ./xml\\Cars1.xml   126   266   125   154\n",
       "2     ./xml\\Cars10.xml   106   304    16   145\n",
       "3    ./xml\\Cars102.xml    31   324   138   202\n",
       "4    ./xml\\Cars104.xml   195   243   267   282\n",
       "..                 ...   ...   ...   ...   ...\n",
       "107   ./xml\\Cars94.xml   172   261   206   252\n",
       "108   ./xml\\Cars96.xml   130   264   123   155\n",
       "109   ./xml\\Cars97.xml    92   303   100   199\n",
       "110   ./xml\\Cars98.xml    78   252   189   281\n",
       "111   ./xml\\Cars99.xml    67   265   206   273\n",
       "\n",
       "[112 rows x 5 columns]"
      ]
     },
     "execution_count": 16,
     "metadata": {},
     "output_type": "execute_result"
    }
   ],
   "source": [
    "df = pd.DataFrame(labels_dict)\n",
    "df"
   ]
  },
  {
   "cell_type": "code",
   "execution_count": 17,
   "id": "b2fbc369-3720-4518-bd1f-509ad459047d",
   "metadata": {},
   "outputs": [],
   "source": [
    "df.to_csv('Labels.csv', index= False)"
   ]
  },
  {
   "cell_type": "code",
   "execution_count": null,
   "id": "4a1336e3-3cf5-4f7c-94f9-e72fac89795b",
   "metadata": {},
   "outputs": [],
   "source": []
  }
 ],
 "metadata": {
  "kernelspec": {
   "display_name": "Python 3 (ipykernel)",
   "language": "python",
   "name": "python3"
  },
  "language_info": {
   "codemirror_mode": {
    "name": "ipython",
    "version": 3
   },
   "file_extension": ".py",
   "mimetype": "text/x-python",
   "name": "python",
   "nbconvert_exporter": "python",
   "pygments_lexer": "ipython3",
   "version": "3.11.7"
  }
 },
 "nbformat": 4,
 "nbformat_minor": 5
}
